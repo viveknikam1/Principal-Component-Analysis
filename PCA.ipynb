{
 "cells": [
  {
   "cell_type": "code",
   "execution_count": 1,
   "metadata": {},
   "outputs": [],
   "source": [
    "import pandas as pd\n",
    "import numpy as np"
   ]
  },
  {
   "cell_type": "code",
   "execution_count": 2,
   "metadata": {},
   "outputs": [],
   "source": [
    "df = pd.read_csv('Processed_27.csv')"
   ]
  },
  {
   "cell_type": "code",
   "execution_count": 3,
   "metadata": {},
   "outputs": [
    {
     "data": {
      "text/plain": [
       "(2919, 194)"
      ]
     },
     "execution_count": 3,
     "metadata": {},
     "output_type": "execute_result"
    }
   ],
   "source": [
    "df.shape"
   ]
  },
  {
   "cell_type": "code",
   "execution_count": 4,
   "metadata": {},
   "outputs": [],
   "source": [
    "mat = df.corr()"
   ]
  },
  {
   "cell_type": "code",
   "execution_count": 7,
   "metadata": {},
   "outputs": [
    {
     "data": {
      "text/plain": [
       "SalePrice           1.000000\n",
       "OverallQual         0.790982\n",
       "GrLivArea           0.708624\n",
       "GarageCars          0.640409\n",
       "GarageArea          0.623431\n",
       "TotalBsmtSF         0.613581\n",
       "1stFlrSF            0.605852\n",
       "FullBath            0.560664\n",
       "BsmtQual_Ex         0.553105\n",
       "TotRmsAbvGrd        0.533723\n",
       "YearBuilt           0.522897\n",
       "YearRemodAdd        0.507101\n",
       "KitchenQual_Ex      0.504094\n",
       "Foundation_PConc    0.497734\n",
       "MasVnrArea          0.472614\n",
       "GarageYrBlt         0.470177\n",
       "Fireplaces          0.466929\n",
       "ExterQual_Gd        0.452466\n",
       "ExterQual_Ex        0.451164\n",
       "BsmtFinType1_GLQ    0.434597\n",
       "Name: SalePrice, dtype: float64"
      ]
     },
     "execution_count": 7,
     "metadata": {},
     "output_type": "execute_result"
    }
   ],
   "source": [
    "mat.nlargest(20,'SalePrice')['SalePrice']"
   ]
  },
  {
   "cell_type": "code",
   "execution_count": 9,
   "metadata": {},
   "outputs": [],
   "source": [
    "from sklearn.decomposition import PCA\n",
    "from sklearn.preprocessing import StandardScaler"
   ]
  },
  {
   "cell_type": "code",
   "execution_count": 11,
   "metadata": {},
   "outputs": [],
   "source": [
    "X_train = df.iloc[:1460,:].drop('SalePrice',axis=1)"
   ]
  },
  {
   "cell_type": "code",
   "execution_count": 12,
   "metadata": {},
   "outputs": [
    {
     "data": {
      "text/plain": [
       "(1460, 193)"
      ]
     },
     "execution_count": 12,
     "metadata": {},
     "output_type": "execute_result"
    }
   ],
   "source": [
    "X_train.shape"
   ]
  },
  {
   "cell_type": "code",
   "execution_count": 17,
   "metadata": {},
   "outputs": [],
   "source": [
    "X_test = df.iloc[1460:,:].drop('SalePrice',axis=1)\n",
    "y_train = df['SalePrice']"
   ]
  },
  {
   "cell_type": "code",
   "execution_count": 18,
   "metadata": {},
   "outputs": [
    {
     "data": {
      "text/plain": [
       "(1459, 193)"
      ]
     },
     "execution_count": 18,
     "metadata": {},
     "output_type": "execute_result"
    }
   ],
   "source": [
    "X_test.shape"
   ]
  },
  {
   "cell_type": "code",
   "execution_count": 19,
   "metadata": {},
   "outputs": [],
   "source": [
    "ss = StandardScaler()\n",
    "ss.fit(X_train)\n",
    "X_train = ss.transform(X_train)\n",
    "X_test = ss.transform(X_test)"
   ]
  },
  {
   "cell_type": "code",
   "execution_count": 22,
   "metadata": {},
   "outputs": [],
   "source": [
    "pca = PCA(.95)     # 95% Variance Retained"
   ]
  },
  {
   "cell_type": "code",
   "execution_count": 23,
   "metadata": {},
   "outputs": [
    {
     "data": {
      "text/plain": [
       "PCA(copy=True, iterated_power='auto', n_components=0.95, random_state=None,\n",
       "    svd_solver='auto', tol=0.0, whiten=False)"
      ]
     },
     "execution_count": 23,
     "metadata": {},
     "output_type": "execute_result"
    }
   ],
   "source": [
    "pca.fit(X_train)"
   ]
  },
  {
   "cell_type": "code",
   "execution_count": 29,
   "metadata": {},
   "outputs": [],
   "source": [
    "X_pca = pca.transform(X_train)\n",
    "X_test = pca.transform(X_test)"
   ]
  },
  {
   "cell_type": "code",
   "execution_count": 30,
   "metadata": {},
   "outputs": [
    {
     "data": {
      "text/plain": [
       "(1460, 114)"
      ]
     },
     "execution_count": 30,
     "metadata": {},
     "output_type": "execute_result"
    }
   ],
   "source": [
    "X_pca.shape"
   ]
  },
  {
   "cell_type": "code",
   "execution_count": 31,
   "metadata": {},
   "outputs": [],
   "source": [
    "from sklearn.model_selection import GridSearchCV\n",
    "from xgboost import XGBRegressor"
   ]
  },
  {
   "cell_type": "code",
   "execution_count": 32,
   "metadata": {},
   "outputs": [],
   "source": [
    "xgbr = XGBRegressor()"
   ]
  },
  {
   "cell_type": "code",
   "execution_count": 33,
   "metadata": {},
   "outputs": [],
   "source": [
    "n_estimators = [125, 150,175,200,225]\n",
    "max_depth = [2, 3, 4]\n",
    "booster=['gbtree','gblinear']\n",
    "learning_rate=[0.05,0.1,0.15,0.20]\n",
    "min_child_weight=[1,2,3]\n",
    "base_score=[0.25,0.5,0.75]\n",
    "\n",
    "# Define the grid of hyperparameters to search\n",
    "hyperparameter_grid = {\n",
    "    'n_estimators': n_estimators,\n",
    "    'max_depth':max_depth,\n",
    "    'learning_rate':learning_rate,\n",
    "    'min_child_weight':min_child_weight,\n",
    "    'booster':booster,\n",
    "    'base_score':base_score\n",
    "    }"
   ]
  },
  {
   "cell_type": "code",
   "execution_count": 34,
   "metadata": {},
   "outputs": [],
   "source": [
    "from sklearn.metrics import mean_squared_log_error"
   ]
  },
  {
   "cell_type": "code",
   "execution_count": 42,
   "metadata": {},
   "outputs": [],
   "source": [
    "grid_cv = GridSearchCV(estimator=xgbr,\n",
    "            param_grid=hyperparameter_grid,\n",
    "            cv=5, \n",
    "            scoring = 'neg_mean_absolute_error' ,n_jobs = 4,\n",
    "            verbose = 10, \n",
    "            return_train_score = True,\n",
    "           )"
   ]
  },
  {
   "cell_type": "code",
   "execution_count": 44,
   "metadata": {},
   "outputs": [
    {
     "name": "stdout",
     "output_type": "stream",
     "text": [
      "Fitting 5 folds for each of 1080 candidates, totalling 5400 fits\n"
     ]
    },
    {
     "name": "stderr",
     "output_type": "stream",
     "text": [
      "[Parallel(n_jobs=4)]: Using backend LokyBackend with 4 concurrent workers.\n",
      "[Parallel(n_jobs=4)]: Done   5 tasks      | elapsed:   14.4s\n",
      "[Parallel(n_jobs=4)]: Done  10 tasks      | elapsed:   17.0s\n",
      "[Parallel(n_jobs=4)]: Done  17 tasks      | elapsed:   21.9s\n",
      "[Parallel(n_jobs=4)]: Done  24 tasks      | elapsed:   26.4s\n",
      "[Parallel(n_jobs=4)]: Done  33 tasks      | elapsed:   31.7s\n",
      "[Parallel(n_jobs=4)]: Done  42 tasks      | elapsed:   37.2s\n",
      "[Parallel(n_jobs=4)]: Done  53 tasks      | elapsed:   44.3s\n",
      "[Parallel(n_jobs=4)]: Done  64 tasks      | elapsed:   49.8s\n",
      "[Parallel(n_jobs=4)]: Done  77 tasks      | elapsed:  1.0min\n",
      "[Parallel(n_jobs=4)]: Done  90 tasks      | elapsed:  1.2min\n",
      "[Parallel(n_jobs=4)]: Done 105 tasks      | elapsed:  1.5min\n",
      "[Parallel(n_jobs=4)]: Done 120 tasks      | elapsed:  1.7min\n",
      "[Parallel(n_jobs=4)]: Done 137 tasks      | elapsed:  2.0min\n",
      "[Parallel(n_jobs=4)]: Done 154 tasks      | elapsed:  2.3min\n",
      "[Parallel(n_jobs=4)]: Done 173 tasks      | elapsed:  2.7min\n",
      "[Parallel(n_jobs=4)]: Done 192 tasks      | elapsed:  3.2min\n",
      "[Parallel(n_jobs=4)]: Done 213 tasks      | elapsed:  3.6min\n",
      "[Parallel(n_jobs=4)]: Done 234 tasks      | elapsed:  4.0min\n",
      "[Parallel(n_jobs=4)]: Done 257 tasks      | elapsed:  4.3min\n",
      "[Parallel(n_jobs=4)]: Done 280 tasks      | elapsed:  4.5min\n",
      "[Parallel(n_jobs=4)]: Done 305 tasks      | elapsed:  4.8min\n",
      "[Parallel(n_jobs=4)]: Done 330 tasks      | elapsed:  5.2min\n",
      "[Parallel(n_jobs=4)]: Done 357 tasks      | elapsed:  5.6min\n",
      "[Parallel(n_jobs=4)]: Done 384 tasks      | elapsed:  6.0min\n",
      "[Parallel(n_jobs=4)]: Done 413 tasks      | elapsed:  6.6min\n",
      "[Parallel(n_jobs=4)]: Done 442 tasks      | elapsed:  7.2min\n",
      "[Parallel(n_jobs=4)]: Done 473 tasks      | elapsed:  7.7min\n",
      "[Parallel(n_jobs=4)]: Done 504 tasks      | elapsed:  8.0min\n",
      "[Parallel(n_jobs=4)]: Done 537 tasks      | elapsed:  8.4min\n",
      "[Parallel(n_jobs=4)]: Done 570 tasks      | elapsed:  8.9min\n",
      "[Parallel(n_jobs=4)]: Done 605 tasks      | elapsed:  9.4min\n",
      "[Parallel(n_jobs=4)]: Done 640 tasks      | elapsed: 10.2min\n",
      "[Parallel(n_jobs=4)]: Done 677 tasks      | elapsed: 10.9min\n",
      "[Parallel(n_jobs=4)]: Done 714 tasks      | elapsed: 11.3min\n",
      "[Parallel(n_jobs=4)]: Done 753 tasks      | elapsed: 11.7min\n",
      "[Parallel(n_jobs=4)]: Done 792 tasks      | elapsed: 12.4min\n",
      "[Parallel(n_jobs=4)]: Done 833 tasks      | elapsed: 13.1min\n",
      "[Parallel(n_jobs=4)]: Done 874 tasks      | elapsed: 14.0min\n",
      "[Parallel(n_jobs=4)]: Done 917 tasks      | elapsed: 14.5min\n",
      "[Parallel(n_jobs=4)]: Done 960 tasks      | elapsed: 14.6min\n",
      "[Parallel(n_jobs=4)]: Done 1005 tasks      | elapsed: 14.7min\n",
      "[Parallel(n_jobs=4)]: Done 1050 tasks      | elapsed: 14.8min\n",
      "[Parallel(n_jobs=4)]: Done 1097 tasks      | elapsed: 14.9min\n",
      "[Parallel(n_jobs=4)]: Done 1144 tasks      | elapsed: 15.0min\n",
      "[Parallel(n_jobs=4)]: Done 1193 tasks      | elapsed: 15.1min\n",
      "[Parallel(n_jobs=4)]: Done 1242 tasks      | elapsed: 15.2min\n",
      "[Parallel(n_jobs=4)]: Done 1293 tasks      | elapsed: 15.2min\n",
      "[Parallel(n_jobs=4)]: Done 1344 tasks      | elapsed: 15.3min\n",
      "[Parallel(n_jobs=4)]: Done 1397 tasks      | elapsed: 15.4min\n",
      "[Parallel(n_jobs=4)]: Done 1450 tasks      | elapsed: 15.5min\n",
      "[Parallel(n_jobs=4)]: Done 1505 tasks      | elapsed: 15.6min\n",
      "[Parallel(n_jobs=4)]: Done 1560 tasks      | elapsed: 15.7min\n",
      "[Parallel(n_jobs=4)]: Done 1617 tasks      | elapsed: 15.8min\n",
      "[Parallel(n_jobs=4)]: Done 1674 tasks      | elapsed: 15.9min\n",
      "[Parallel(n_jobs=4)]: Done 1733 tasks      | elapsed: 16.0min\n",
      "[Parallel(n_jobs=4)]: Done 1792 tasks      | elapsed: 16.1min\n",
      "[Parallel(n_jobs=4)]: Done 1853 tasks      | elapsed: 16.7min\n",
      "[Parallel(n_jobs=4)]: Done 1914 tasks      | elapsed: 17.7min\n",
      "[Parallel(n_jobs=4)]: Done 1977 tasks      | elapsed: 19.1min\n",
      "[Parallel(n_jobs=4)]: Done 2040 tasks      | elapsed: 20.5min\n",
      "[Parallel(n_jobs=4)]: Done 2105 tasks      | elapsed: 21.3min\n",
      "[Parallel(n_jobs=4)]: Done 2170 tasks      | elapsed: 22.6min\n",
      "[Parallel(n_jobs=4)]: Done 2237 tasks      | elapsed: 24.3min\n",
      "[Parallel(n_jobs=4)]: Done 2304 tasks      | elapsed: 25.4min\n",
      "[Parallel(n_jobs=4)]: Done 2373 tasks      | elapsed: 26.7min\n",
      "[Parallel(n_jobs=4)]: Done 2442 tasks      | elapsed: 28.2min\n",
      "[Parallel(n_jobs=4)]: Done 2513 tasks      | elapsed: 29.6min\n",
      "[Parallel(n_jobs=4)]: Done 2584 tasks      | elapsed: 30.8min\n",
      "[Parallel(n_jobs=4)]: Done 2657 tasks      | elapsed: 32.5min\n",
      "[Parallel(n_jobs=4)]: Done 2730 tasks      | elapsed: 33.8min\n",
      "[Parallel(n_jobs=4)]: Done 2805 tasks      | elapsed: 33.9min\n",
      "[Parallel(n_jobs=4)]: Done 2880 tasks      | elapsed: 34.1min\n",
      "[Parallel(n_jobs=4)]: Done 2957 tasks      | elapsed: 34.3min\n",
      "[Parallel(n_jobs=4)]: Done 3034 tasks      | elapsed: 34.4min\n",
      "[Parallel(n_jobs=4)]: Done 3113 tasks      | elapsed: 34.6min\n",
      "[Parallel(n_jobs=4)]: Done 3192 tasks      | elapsed: 34.8min\n",
      "[Parallel(n_jobs=4)]: Done 3273 tasks      | elapsed: 35.0min\n",
      "[Parallel(n_jobs=4)]: Done 3354 tasks      | elapsed: 35.1min\n",
      "[Parallel(n_jobs=4)]: Done 3437 tasks      | elapsed: 35.3min\n",
      "[Parallel(n_jobs=4)]: Done 3520 tasks      | elapsed: 35.5min\n",
      "[Parallel(n_jobs=4)]: Done 3605 tasks      | elapsed: 35.8min\n",
      "[Parallel(n_jobs=4)]: Done 3690 tasks      | elapsed: 37.0min\n",
      "[Parallel(n_jobs=4)]: Done 3777 tasks      | elapsed: 39.0min\n",
      "[Parallel(n_jobs=4)]: Done 3864 tasks      | elapsed: 40.7min\n",
      "[Parallel(n_jobs=4)]: Done 3953 tasks      | elapsed: 42.3min\n",
      "[Parallel(n_jobs=4)]: Done 4042 tasks      | elapsed: 44.6min\n",
      "[Parallel(n_jobs=4)]: Done 4133 tasks      | elapsed: 45.9min\n",
      "[Parallel(n_jobs=4)]: Done 4224 tasks      | elapsed: 48.0min\n",
      "[Parallel(n_jobs=4)]: Done 4317 tasks      | elapsed: 49.9min\n",
      "[Parallel(n_jobs=4)]: Done 4410 tasks      | elapsed: 51.6min\n",
      "[Parallel(n_jobs=4)]: Done 4505 tasks      | elapsed: 54.0min\n",
      "[Parallel(n_jobs=4)]: Done 4600 tasks      | elapsed: 54.2min\n",
      "[Parallel(n_jobs=4)]: Done 4697 tasks      | elapsed: 54.4min\n",
      "[Parallel(n_jobs=4)]: Done 4794 tasks      | elapsed: 54.6min\n",
      "[Parallel(n_jobs=4)]: Done 4893 tasks      | elapsed: 54.8min\n",
      "[Parallel(n_jobs=4)]: Done 4992 tasks      | elapsed: 55.0min\n",
      "[Parallel(n_jobs=4)]: Done 5093 tasks      | elapsed: 55.2min\n",
      "[Parallel(n_jobs=4)]: Done 5194 tasks      | elapsed: 55.4min\n",
      "[Parallel(n_jobs=4)]: Done 5297 tasks      | elapsed: 55.6min\n",
      "[Parallel(n_jobs=4)]: Done 5400 out of 5400 | elapsed: 55.9min finished\n",
      "C:\\ProgramData\\Anaconda3\\lib\\site-packages\\xgboost\\core.py:587: FutureWarning: Series.base is deprecated and will be removed in a future version\n",
      "  if getattr(data, 'base', None) is not None and \\\n",
      "C:\\ProgramData\\Anaconda3\\lib\\site-packages\\xgboost\\core.py:588: FutureWarning: Series.base is deprecated and will be removed in a future version\n",
      "  data.base is not None and isinstance(data, np.ndarray) \\\n"
     ]
    },
    {
     "name": "stdout",
     "output_type": "stream",
     "text": [
      "[18:48:59] WARNING: src/objective/regression_obj.cu:152: reg:linear is now deprecated in favor of reg:squarederror.\n"
     ]
    },
    {
     "data": {
      "text/plain": [
       "GridSearchCV(cv=5, error_score='raise-deprecating',\n",
       "             estimator=XGBRegressor(base_score=0.5, booster='gbtree',\n",
       "                                    colsample_bylevel=1, colsample_bynode=1,\n",
       "                                    colsample_bytree=1, gamma=0,\n",
       "                                    importance_type='gain', learning_rate=0.1,\n",
       "                                    max_delta_step=0, max_depth=3,\n",
       "                                    min_child_weight=1, missing=None,\n",
       "                                    n_estimators=100, n_jobs=1, nthread=None,\n",
       "                                    objective='reg:linear', random_state=0,...\n",
       "                                    scale_pos_weight=1, seed=None, silent=None,\n",
       "                                    subsample=1, verbosity=1),\n",
       "             iid='warn', n_jobs=4,\n",
       "             param_grid={'base_score': [0.25, 0.5, 0.75],\n",
       "                         'booster': ['gbtree', 'gblinear'],\n",
       "                         'learning_rate': [0.05, 0.1, 0.15, 0.2],\n",
       "                         'max_depth': [2, 3, 4], 'min_child_weight': [1, 2, 3],\n",
       "                         'n_estimators': [125, 150, 175, 200, 225]},\n",
       "             pre_dispatch='2*n_jobs', refit=True, return_train_score=True,\n",
       "             scoring='neg_mean_absolute_error', verbose=10)"
      ]
     },
     "execution_count": 44,
     "metadata": {},
     "output_type": "execute_result"
    }
   ],
   "source": [
    "grid_cv.fit(X_pca,y_train.iloc[:1460])"
   ]
  },
  {
   "cell_type": "code",
   "execution_count": 45,
   "metadata": {},
   "outputs": [
    {
     "data": {
      "text/plain": [
       "XGBRegressor(base_score=0.5, booster='gbtree', colsample_bylevel=1,\n",
       "             colsample_bynode=1, colsample_bytree=1, gamma=0,\n",
       "             importance_type='gain', learning_rate=0.15, max_delta_step=0,\n",
       "             max_depth=3, min_child_weight=2, missing=None, n_estimators=150,\n",
       "             n_jobs=1, nthread=None, objective='reg:linear', random_state=0,\n",
       "             reg_alpha=0, reg_lambda=1, scale_pos_weight=1, seed=None,\n",
       "             silent=None, subsample=1, verbosity=1)"
      ]
     },
     "execution_count": 45,
     "metadata": {},
     "output_type": "execute_result"
    }
   ],
   "source": [
    "grid_cv.best_estimator_"
   ]
  },
  {
   "cell_type": "code",
   "execution_count": 46,
   "metadata": {},
   "outputs": [],
   "source": [
    "xgbr_final = XGBRegressor(base_score=0.5, booster='gbtree', colsample_bylevel=1,\n",
    "             colsample_bynode=1, colsample_bytree=1, gamma=0,\n",
    "             importance_type='gain', learning_rate=0.15, max_delta_step=0,\n",
    "             max_depth=3, min_child_weight=2, missing=None, n_estimators=150,\n",
    "             n_jobs=1, nthread=None, objective='reg:linear', random_state=0,\n",
    "             reg_alpha=0, reg_lambda=1, scale_pos_weight=1, seed=None,\n",
    "             silent=None, subsample=1, verbosity=1)"
   ]
  },
  {
   "cell_type": "code",
   "execution_count": 47,
   "metadata": {},
   "outputs": [
    {
     "name": "stderr",
     "output_type": "stream",
     "text": [
      "C:\\ProgramData\\Anaconda3\\lib\\site-packages\\xgboost\\core.py:587: FutureWarning: Series.base is deprecated and will be removed in a future version\n",
      "  if getattr(data, 'base', None) is not None and \\\n",
      "C:\\ProgramData\\Anaconda3\\lib\\site-packages\\xgboost\\core.py:588: FutureWarning: Series.base is deprecated and will be removed in a future version\n",
      "  data.base is not None and isinstance(data, np.ndarray) \\\n"
     ]
    },
    {
     "name": "stdout",
     "output_type": "stream",
     "text": [
      "[18:51:55] WARNING: src/objective/regression_obj.cu:152: reg:linear is now deprecated in favor of reg:squarederror.\n"
     ]
    },
    {
     "data": {
      "text/plain": [
       "XGBRegressor(base_score=0.5, booster='gbtree', colsample_bylevel=1,\n",
       "             colsample_bynode=1, colsample_bytree=1, gamma=0,\n",
       "             importance_type='gain', learning_rate=0.15, max_delta_step=0,\n",
       "             max_depth=3, min_child_weight=2, missing=None, n_estimators=150,\n",
       "             n_jobs=1, nthread=None, objective='reg:linear', random_state=0,\n",
       "             reg_alpha=0, reg_lambda=1, scale_pos_weight=1, seed=None,\n",
       "             silent=None, subsample=1, verbosity=1)"
      ]
     },
     "execution_count": 47,
     "metadata": {},
     "output_type": "execute_result"
    }
   ],
   "source": [
    "xgbr_final.fit(X_pca,y_train.iloc[:1460])"
   ]
  },
  {
   "cell_type": "code",
   "execution_count": 50,
   "metadata": {},
   "outputs": [],
   "source": [
    "y_predict = xgbr_final.predict(X_test)"
   ]
  },
  {
   "cell_type": "code",
   "execution_count": 51,
   "metadata": {},
   "outputs": [],
   "source": [
    "df_final = pd.DataFrame({'Id':range(1461,2920),'SalePrice':y_predict})"
   ]
  },
  {
   "cell_type": "code",
   "execution_count": 52,
   "metadata": {},
   "outputs": [
    {
     "data": {
      "text/html": [
       "<div>\n",
       "<style scoped>\n",
       "    .dataframe tbody tr th:only-of-type {\n",
       "        vertical-align: middle;\n",
       "    }\n",
       "\n",
       "    .dataframe tbody tr th {\n",
       "        vertical-align: top;\n",
       "    }\n",
       "\n",
       "    .dataframe thead th {\n",
       "        text-align: right;\n",
       "    }\n",
       "</style>\n",
       "<table border=\"1\" class=\"dataframe\">\n",
       "  <thead>\n",
       "    <tr style=\"text-align: right;\">\n",
       "      <th></th>\n",
       "      <th>Id</th>\n",
       "      <th>SalePrice</th>\n",
       "    </tr>\n",
       "  </thead>\n",
       "  <tbody>\n",
       "    <tr>\n",
       "      <th>0</th>\n",
       "      <td>1461</td>\n",
       "      <td>118339.140625</td>\n",
       "    </tr>\n",
       "    <tr>\n",
       "      <th>1</th>\n",
       "      <td>1462</td>\n",
       "      <td>151174.640625</td>\n",
       "    </tr>\n",
       "    <tr>\n",
       "      <th>2</th>\n",
       "      <td>1463</td>\n",
       "      <td>184867.125000</td>\n",
       "    </tr>\n",
       "    <tr>\n",
       "      <th>3</th>\n",
       "      <td>1464</td>\n",
       "      <td>187580.187500</td>\n",
       "    </tr>\n",
       "    <tr>\n",
       "      <th>4</th>\n",
       "      <td>1465</td>\n",
       "      <td>194492.140625</td>\n",
       "    </tr>\n",
       "  </tbody>\n",
       "</table>\n",
       "</div>"
      ],
      "text/plain": [
       "     Id      SalePrice\n",
       "0  1461  118339.140625\n",
       "1  1462  151174.640625\n",
       "2  1463  184867.125000\n",
       "3  1464  187580.187500\n",
       "4  1465  194492.140625"
      ]
     },
     "execution_count": 52,
     "metadata": {},
     "output_type": "execute_result"
    }
   ],
   "source": [
    "df_final.head()"
   ]
  },
  {
   "cell_type": "code",
   "execution_count": 53,
   "metadata": {},
   "outputs": [],
   "source": [
    "df_final.to_csv('PCA_op.csv',index=False)"
   ]
  },
  {
   "cell_type": "code",
   "execution_count": null,
   "metadata": {},
   "outputs": [],
   "source": []
  }
 ],
 "metadata": {
  "kernelspec": {
   "display_name": "Python 3",
   "language": "python",
   "name": "python3"
  },
  "language_info": {
   "codemirror_mode": {
    "name": "ipython",
    "version": 3
   },
   "file_extension": ".py",
   "mimetype": "text/x-python",
   "name": "python",
   "nbconvert_exporter": "python",
   "pygments_lexer": "ipython3",
   "version": "3.7.3"
  }
 },
 "nbformat": 4,
 "nbformat_minor": 2
}
